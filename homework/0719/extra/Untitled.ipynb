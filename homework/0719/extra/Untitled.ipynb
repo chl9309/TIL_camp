{
 "cells": [
  {
   "cell_type": "code",
   "execution_count": 5,
   "id": "87d38b3f",
   "metadata": {},
   "outputs": [
    {
     "name": "stdout",
     "output_type": "stream",
     "text": [
      "14\n",
      "['핫초코', '카푸치노', '카라멜마키야또', '에스프레소', '아이스카라멜마키야또', '아이스아메리카노', '아이스라떼', '아메리카노', '라떼마키야또']\n"
     ]
    }
   ],
   "source": [
    "from itertools import count\n",
    "\n",
    "\n",
    "orders = '아이스아메리카노,카라멜마키야또,에스프레소,아메리카노,아메리카노,아이스라떼,핫초코,아이스아메리카노,아메리카노,아이스카라멜마키야또,아이스라떼,라떼마키야또,카푸치노,라떼마키야또'\n",
    "\n",
    "orders_list = list(orders.split(','))\n",
    "\n",
    "print(len(list(orders.split(','))))\n",
    "\n",
    "orders_list2 = sorted(list(set(orders_list)),reverse=True)\n",
    "\n",
    "print(orders_list2)\n"
   ]
  },
  {
   "cell_type": "code",
   "execution_count": null,
   "id": "43c3f6cb",
   "metadata": {},
   "outputs": [],
   "source": []
  }
 ],
 "metadata": {
  "kernelspec": {
   "display_name": "Python 3 (ipykernel)",
   "language": "python",
   "name": "python3"
  },
  "language_info": {
   "codemirror_mode": {
    "name": "ipython",
    "version": 3
   },
   "file_extension": ".py",
   "mimetype": "text/x-python",
   "name": "python",
   "nbconvert_exporter": "python",
   "pygments_lexer": "ipython3",
   "version": "3.9.13"
  },
  "toc": {
   "base_numbering": 1,
   "nav_menu": {},
   "number_sections": true,
   "sideBar": true,
   "skip_h1_title": false,
   "title_cell": "Table of Contents",
   "title_sidebar": "Contents",
   "toc_cell": false,
   "toc_position": {},
   "toc_section_display": true,
   "toc_window_display": false
  }
 },
 "nbformat": 4,
 "nbformat_minor": 5
}
